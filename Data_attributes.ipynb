{
 "cells": [
  {
   "cell_type": "code",
   "execution_count": null,
   "metadata": {
    "id": "M4gEw53bM3qe"
   },
   "outputs": [],
   "source": [
    "#Importing pandas library\n",
    "import pandas as pd"
   ]
  },
  {
   "cell_type": "code",
   "execution_count": null,
   "metadata": {
    "id": "ZG5hVk2hkdZ6"
   },
   "outputs": [],
   "source": [
    "#Importing twitter data\n",
    "twit_orig = pd.read_csv('/content/TWITTER_DATA_1920.csv')"
   ]
  },
  {
   "cell_type": "code",
   "execution_count": null,
   "metadata": {
    "id": "pr5aBGlnN22T"
   },
   "outputs": [],
   "source": [
    "data = twit_orig.dropna(subset = ['Tweet tekst'])"
   ]
  },
  {
   "cell_type": "code",
   "execution_count": null,
   "metadata": {
    "id": "hoebrSOkN4lW"
   },
   "outputs": [],
   "source": [
    "#Creating function to detect if there are hashtags in the text of the post\n",
    "def det_hashtags(text_column):\n",
    "  #Detecting hashtags\n",
    "  hashtag_in_post = []\n",
    "  num_hastags = []\n",
    "  which_hashtag = []\n",
    "  #Looping over all posts\n",
    "  for post in text_column:\n",
    "    #Defining list to track occurences per post, for later appending to list \n",
    "    #across posts\n",
    "    per_post = []\n",
    "    hashtags = []\n",
    "    \n",
    "    #Looping over individual word in post\n",
    "    for word in list(set(post.split())):\n",
    "      if word[0] == '#':\n",
    "        per_post.append(1)\n",
    "        hashtags.append(word)\n",
    "\n",
    "    #Appending items of interest to appropriate list  \n",
    "    if sum(per_post) > 0:\n",
    "      hashtag_in_post.append(1)\n",
    "      num_hastags.append(sum(per_post))\n",
    "      which_hashtag.append(str(hashtags)[1:-1])\n",
    "\n",
    "    else:\n",
    "      hashtag_in_post.append(0)\n",
    "      num_hastags.append('NaN')\n",
    "      which_hashtag.append('NaN')\n",
    "  \n",
    "  return hashtag_in_post, num_hastags, which_hashtag"
   ]
  },
  {
   "cell_type": "code",
   "execution_count": null,
   "metadata": {
    "id": "RRqWyiXEO6Ij"
   },
   "outputs": [],
   "source": [
    "#Adding to dataset\n",
    "data['Hashtag in post (Y/N)'], data['Number of hashtags'], data['Hashtags in post'] = det_hashtags(data['Tweet tekst']) "
   ]
  },
  {
   "cell_type": "code",
   "execution_count": null,
   "metadata": {
    "colab": {
     "base_uri": "https://localhost:8080/"
    },
    "id": "PPIRLH00WGRW",
    "outputId": "7fc435ad-52d7-428b-da89-8d87c62caa94"
   },
   "outputs": [
    {
     "name": "stdout",
     "output_type": "stream",
     "text": [
      "Requirement already satisfied: emoji in /usr/local/lib/python3.7/dist-packages (1.4.2)\n"
     ]
    }
   ],
   "source": [
    "#Installing emoji library for later use to detect emojis\n",
    "!pip install emoji"
   ]
  },
  {
   "cell_type": "code",
   "execution_count": null,
   "metadata": {
    "id": "Gbkzz7oWWI6u"
   },
   "outputs": [],
   "source": [
    "import emoji"
   ]
  },
  {
   "cell_type": "code",
   "execution_count": null,
   "metadata": {
    "id": "twoQ05KCVUj9"
   },
   "outputs": [],
   "source": [
    "#Creating function to define if there are emojis in the text of the post\n",
    "def det_emoji(text_column):\n",
    "  #Detecting emojis\n",
    "  emoji_in_post = []\n",
    "  num_emojis = []\n",
    "  which_emoji = []\n",
    "  for post in text_column:\n",
    "    per_post = []\n",
    "    for word in list(set(post.split())):\n",
    "      if word in emoji.EMOJI_UNICODE:\n",
    "        per_post.append(1)\n",
    "      \n",
    "    if sum(per_post) > 0:\n",
    "      emoji_in_post.append(1)\n",
    "      num_emojis.append(sum(per_post))\n",
    "      \n",
    "    else:\n",
    "      emoji_in_post.append(0)\n",
    "      num_emojis.append('NaN')\n",
    "      \n",
    "    \n",
    "  return emoji_in_post, num_emojis"
   ]
  },
  {
   "cell_type": "code",
   "execution_count": null,
   "metadata": {
    "id": "x9HLVg_nWn7X"
   },
   "outputs": [],
   "source": [
    "#Adding to dataset\n",
    "data['Emoji in post (Y/N)'], data['Number of Emojis'] = det_emoji(data['Tweet tekst'])"
   ]
  },
  {
   "cell_type": "code",
   "execution_count": null,
   "metadata": {
    "id": "SZlb8Eb2W3pS"
   },
   "outputs": [],
   "source": [
    "#Creating function to define if there are links in the text of the post\n",
    "def det_links(text_column):\n",
    "  #Detecting links\n",
    "  link_in_post = []\n",
    "  link = []\n",
    "  num_links = []\n",
    "  for post in text_column:\n",
    "    per_post = []\n",
    "    post_link = []\n",
    "    for word in list(set(post.split())):\n",
    "      if word[:5] == 'https':\n",
    "        per_post.append(1)\n",
    "        post_link.append(word)\n",
    "      \n",
    "    if sum(per_post) > 0:\n",
    "      link_in_post.append(1)\n",
    "      link.append(str(post_link)[1:-1])\n",
    "      num_links.append(sum(per_post))\n",
    "\n",
    "    else:\n",
    "      link_in_post.append(0)\n",
    "      link.append('NaN')\n",
    "      num_links.append(0)\n",
    "\n",
    "  return link_in_post, link, num_links"
   ]
  },
  {
   "cell_type": "code",
   "execution_count": null,
   "metadata": {
    "id": "vmkNMiSOYrMO"
   },
   "outputs": [],
   "source": [
    "#Adding to dataset\n",
    "data['Link in post (Y/N)'], data['Posted Link'], data['number of links in post'] = det_links(data['Tweet tekst'])"
   ]
  },
  {
   "cell_type": "code",
   "execution_count": null,
   "metadata": {
    "id": "BcG0hX5SYyG9"
   },
   "outputs": [],
   "source": [
    "#Creating function to define if there are collaborations/mentions \n",
    "#of others in the text of the post\n",
    "def det_collab(text_column):\n",
    "  #Detecting collabs\n",
    "  collab_in_post = []\n",
    "  collab = []\n",
    "  for post in text_column:\n",
    "    per_post = []\n",
    "    post_collab = []\n",
    "    for word in list(set(post.split())):\n",
    "      if word[0] == '@':\n",
    "        per_post.append(1)\n",
    "        post_collab.append(word)\n",
    "      \n",
    "    if sum(per_post) > 0:\n",
    "      collab_in_post.append(1)\n",
    "      collab.append(str(post_collab)[1:-1])\n",
    "\n",
    "    else:\n",
    "      collab_in_post.append(0)\n",
    "      collab.append('NaN')\n",
    "  return collab_in_post, collab"
   ]
  },
  {
   "cell_type": "code",
   "execution_count": null,
   "metadata": {
    "id": "3AUYLykWcoaV"
   },
   "outputs": [],
   "source": [
    "#Adding to dataset\n",
    "data['Collaboration (Y/N)'], data['Collaboration'] = det_collab(data['Tweet tekst'])"
   ]
  },
  {
   "cell_type": "code",
   "execution_count": null,
   "metadata": {
    "id": "nBJuxRiTc6AY"
   },
   "outputs": [],
   "source": [
    "#Downloading dataset\n",
    "data.to_csv('/content/twit_labeled.csv')"
   ]
  },
  {
   "cell_type": "code",
   "execution_count": null,
   "metadata": {
    "id": "9lM1BtPZc6nx"
   },
   "outputs": [],
   "source": [
    "##----------Same for Instagram Data ----------------\n",
    "insta_orig = pd.read_csv('/content/Insta_v1.csv')\n",
    "instadata = insta_orig.dropna(subset = ['Subtitle'])"
   ]
  },
  {
   "cell_type": "code",
   "execution_count": null,
   "metadata": {
    "id": "NkHIoFl5B4Ae"
   },
   "outputs": [],
   "source": [
    "#Detecting hashtags\n",
    "instadata['Hashtag in post (Y/N)'], instadata['Number of hashtags'], instadata['Hashtags in post'] = det_hashtags(instadata['Subtitle'])"
   ]
  },
  {
   "cell_type": "code",
   "execution_count": null,
   "metadata": {
    "id": "aAPVZsE4B36B"
   },
   "outputs": [],
   "source": [
    "#Detecting emojis\n",
    "instadata['Emoji in post (Y/N)'], instadata['Number of Emojis'] = det_emoji(instadata['Subtitle'])"
   ]
  },
  {
   "cell_type": "code",
   "execution_count": null,
   "metadata": {
    "id": "NXEp5MqiCEGd"
   },
   "outputs": [],
   "source": [
    "#Detecting links\n",
    "instadata['Link in post (Y/N)'], instadata['Posted Link'], instadata['number of links in post'] = det_links(instadata['Subtitle'])"
   ]
  },
  {
   "cell_type": "code",
   "execution_count": null,
   "metadata": {
    "id": "nObXnSahCEAn"
   },
   "outputs": [],
   "source": [
    "#Detecting collabs\n",
    "instadata['Collaboration (Y/N)'], instadata['Collaboration'] = det_collab(instadata['Subtitle'])"
   ]
  },
  {
   "cell_type": "code",
   "execution_count": null,
   "metadata": {
    "id": "qv-3LBHNffbj"
   },
   "outputs": [],
   "source": [
    "#Downloading dataset\n",
    "instadata.to_csv('/content/insta_labeled.csv')"
   ]
  },
  {
   "cell_type": "code",
   "execution_count": null,
   "metadata": {
    "id": "BLuRidKMOMyl"
   },
   "outputs": [],
   "source": [
    "##----------Same for Facebook Data ----------------\n",
    "fb_orig = pd.read_excel('/content/FB_content20192020.xlsx')\n",
    "fbdata = fb_orig.dropna(subset = ['Caption'])"
   ]
  },
  {
   "cell_type": "code",
   "execution_count": null,
   "metadata": {
    "colab": {
     "base_uri": "https://localhost:8080/"
    },
    "id": "XMdEIftkOQe2",
    "outputId": "c3c2060b-5853-41b5-910a-ae654812bcf5"
   },
   "outputs": [
    {
     "name": "stderr",
     "output_type": "stream",
     "text": [
      "/usr/local/lib/python3.7/dist-packages/ipykernel_launcher.py:2: SettingWithCopyWarning: \n",
      "A value is trying to be set on a copy of a slice from a DataFrame.\n",
      "Try using .loc[row_indexer,col_indexer] = value instead\n",
      "\n",
      "See the caveats in the documentation: https://pandas.pydata.org/pandas-docs/stable/user_guide/indexing.html#returning-a-view-versus-a-copy\n",
      "  \n"
     ]
    }
   ],
   "source": [
    "#Detecting hashtags\n",
    "fbdata['Hashtag in post (Y/N)'],fbdata['Number of hashtags'], fbdata['Hashtags in post'] = det_hashtags(fbdata['Caption'])"
   ]
  },
  {
   "cell_type": "code",
   "execution_count": null,
   "metadata": {
    "colab": {
     "base_uri": "https://localhost:8080/"
    },
    "id": "Qooz1QsgOVPF",
    "outputId": "5ab45992-ccb0-4f7b-d913-784bb792cf6f"
   },
   "outputs": [
    {
     "name": "stderr",
     "output_type": "stream",
     "text": [
      "/usr/local/lib/python3.7/dist-packages/ipykernel_launcher.py:2: SettingWithCopyWarning: \n",
      "A value is trying to be set on a copy of a slice from a DataFrame.\n",
      "Try using .loc[row_indexer,col_indexer] = value instead\n",
      "\n",
      "See the caveats in the documentation: https://pandas.pydata.org/pandas-docs/stable/user_guide/indexing.html#returning-a-view-versus-a-copy\n",
      "  \n"
     ]
    }
   ],
   "source": [
    "#Detecting emojis\n",
    "fbdata['Emoji in post (Y/N)'], fbdata['Number of Emojis'] = det_emoji(fbdata['Caption'])"
   ]
  },
  {
   "cell_type": "code",
   "execution_count": null,
   "metadata": {
    "colab": {
     "base_uri": "https://localhost:8080/"
    },
    "id": "MJqf2NbHOVL4",
    "outputId": "080b74e4-c5aa-49b0-fa70-1d28899c84e4"
   },
   "outputs": [
    {
     "name": "stderr",
     "output_type": "stream",
     "text": [
      "/usr/local/lib/python3.7/dist-packages/ipykernel_launcher.py:2: SettingWithCopyWarning: \n",
      "A value is trying to be set on a copy of a slice from a DataFrame.\n",
      "Try using .loc[row_indexer,col_indexer] = value instead\n",
      "\n",
      "See the caveats in the documentation: https://pandas.pydata.org/pandas-docs/stable/user_guide/indexing.html#returning-a-view-versus-a-copy\n",
      "  \n"
     ]
    }
   ],
   "source": [
    "#Detecting links\n",
    "fbdata['Link in post (Y/N)'], fbdata['Posted Link'], fbdata['number of links in post'] = det_links(fbdata['Caption'])"
   ]
  },
  {
   "cell_type": "code",
   "execution_count": null,
   "metadata": {
    "colab": {
     "base_uri": "https://localhost:8080/"
    },
    "id": "Y08rHbgVOVJK",
    "outputId": "b55d446b-219f-4698-9937-13cf5eecf98b"
   },
   "outputs": [
    {
     "name": "stderr",
     "output_type": "stream",
     "text": [
      "/usr/local/lib/python3.7/dist-packages/ipykernel_launcher.py:2: SettingWithCopyWarning: \n",
      "A value is trying to be set on a copy of a slice from a DataFrame.\n",
      "Try using .loc[row_indexer,col_indexer] = value instead\n",
      "\n",
      "See the caveats in the documentation: https://pandas.pydata.org/pandas-docs/stable/user_guide/indexing.html#returning-a-view-versus-a-copy\n",
      "  \n"
     ]
    }
   ],
   "source": [
    "#Detecting collabs\n",
    "fbdata['Collaboration (Y/N)'], fbdata['Collaboration'] = det_collab(fbdata['Caption'])"
   ]
  },
  {
   "cell_type": "code",
   "execution_count": null,
   "metadata": {
    "id": "CCTatTiTlzIg"
   },
   "outputs": [],
   "source": [
    "fbdata.to_csv('/content/fb_labeled.csv')"
   ]
  }
 ],
 "metadata": {
  "colab": {
   "collapsed_sections": [],
   "name": "Data_attributes.ipynb",
   "provenance": []
  },
  "kernelspec": {
   "display_name": "Python 3",
   "language": "python",
   "name": "python3"
  },
  "language_info": {
   "codemirror_mode": {
    "name": "ipython",
    "version": 3
   },
   "file_extension": ".py",
   "mimetype": "text/x-python",
   "name": "python",
   "nbconvert_exporter": "python",
   "pygments_lexer": "ipython3",
   "version": "3.7.4"
  }
 },
 "nbformat": 4,
 "nbformat_minor": 1
}
